{
 "cells": [
  {
   "cell_type": "code",
   "execution_count": 1,
   "id": "93397000",
   "metadata": {},
   "outputs": [],
   "source": [
    "#pip install pgmpy"
   ]
  },
  {
   "cell_type": "code",
   "execution_count": 7,
   "id": "986ba74d",
   "metadata": {},
   "outputs": [
    {
     "name": "stderr",
     "output_type": "stream",
     "text": [
      "C:\\Users\\Shakiba\\.conda\\envs\\pgm\\lib\\site-packages\\tqdm\\auto.py:22: TqdmWarning: IProgress not found. Please update jupyter and ipywidgets. See https://ipywidgets.readthedocs.io/en/stable/user_install.html\n",
      "  from .autonotebook import tqdm as notebook_tqdm\n"
     ]
    }
   ],
   "source": [
    "#importing needed libraries\n",
    "from pgmpy.models import BayesianNetwork\n",
    "from pgmpy.factors.discrete import TabularCPD\n",
    "import matplotlib.pyplot as plt"
   ]
  },
  {
   "cell_type": "code",
   "execution_count": 8,
   "id": "422a5b20",
   "metadata": {},
   "outputs": [
    {
     "name": "stdout",
     "output_type": "stream",
     "text": [
      "CPT of Fs1 ==>\n",
      "+--------+------+\n",
      "| Fs1(N) | 0.96 |\n",
      "+--------+------+\n",
      "| Fs1(Y) | 0.04 |\n",
      "+--------+------+ \n",
      "\n",
      "CPT of Fs2 ==>\n",
      "+--------+------+\n",
      "| Fs2(N) | 0.96 |\n",
      "+--------+------+\n",
      "| Fs2(Y) | 0.04 |\n",
      "+--------+------+ \n",
      "\n",
      "CPT of Fs3 ==>\n",
      "+--------+------+\n",
      "| Fs3(N) | 0.94 |\n",
      "+--------+------+\n",
      "| Fs3(Y) | 0.06 |\n",
      "+--------+------+ \n",
      "\n",
      "CPT of Fs4 ==>\n",
      "+--------+------+\n",
      "| Fs4(N) | 0.94 |\n",
      "+--------+------+\n",
      "| Fs4(Y) | 0.06 |\n",
      "+--------+------+ \n",
      "\n",
      "CPT of Fs5 ==>\n",
      "+--------+------+\n",
      "| Fs5(N) | 0.96 |\n",
      "+--------+------+\n",
      "| Fs5(Y) | 0.04 |\n",
      "+--------+------+ \n",
      "\n",
      "CPT of Fs6 ==>\n",
      "+--------+------+\n",
      "| Fs6(N) | 0.96 |\n",
      "+--------+------+\n",
      "| Fs6(Y) | 0.04 |\n",
      "+--------+------+ \n",
      "\n",
      "CPT of Fs7 ==>\n",
      "+--------+------+\n",
      "| Fs7(N) | 0.96 |\n",
      "+--------+------+\n",
      "| Fs7(Y) | 0.04 |\n",
      "+--------+------+ \n",
      "\n",
      "CPT of Fs8 ==>\n",
      "+--------+------+\n",
      "| Fs8(N) | 0.92 |\n",
      "+--------+------+\n",
      "| Fs8(Y) | 0.08 |\n",
      "+--------+------+ \n",
      "\n",
      "CPT of p1 ==>\n",
      "+-------+--------+--------+--------+--------+\n",
      "| Fs1   | Fs1(N) | Fs1(N) | Fs1(Y) | Fs1(Y) |\n",
      "+-------+--------+--------+--------+--------+\n",
      "| Fs2   | Fs2(N) | Fs2(Y) | Fs2(N) | Fs2(Y) |\n",
      "+-------+--------+--------+--------+--------+\n",
      "| p1(N) | 0.0    | 0.0    | 0.0    | 0.84   |\n",
      "+-------+--------+--------+--------+--------+\n",
      "| p1(Y) | 1.0    | 1.0    | 1.0    | 0.16   |\n",
      "+-------+--------+--------+--------+--------+ \n",
      "\n",
      "CPT of p2 ==>\n",
      "+-------+--------+--------+--------+--------+--------+-----+--------+--------+--------+--------+--------+--------+\n",
      "| Fs3   | Fs3(N) | Fs3(N) | Fs3(N) | Fs3(N) | Fs3(N) | ... | Fs3(Y) | Fs3(Y) | Fs3(Y) | Fs3(Y) | Fs3(Y) | Fs3(Y) |\n",
      "+-------+--------+--------+--------+--------+--------+-----+--------+--------+--------+--------+--------+--------+\n",
      "| Fs4   | Fs4(N) | Fs4(N) | Fs4(N) | Fs4(N) | Fs4(Y) | ... | Fs4(N) | Fs4(N) | Fs4(Y) | Fs4(Y) | Fs4(Y) | Fs4(Y) |\n",
      "+-------+--------+--------+--------+--------+--------+-----+--------+--------+--------+--------+--------+--------+\n",
      "| Fs5   | Fs5(N) | Fs5(N) | Fs5(Y) | Fs5(Y) | Fs5(N) | ... | Fs5(Y) | Fs5(Y) | Fs5(N) | Fs5(N) | Fs5(Y) | Fs5(Y) |\n",
      "+-------+--------+--------+--------+--------+--------+-----+--------+--------+--------+--------+--------+--------+\n",
      "| Fs6   | Fs6(N) | Fs6(Y) | Fs6(N) | Fs6(Y) | Fs6(N) | ... | Fs6(N) | Fs6(Y) | Fs6(N) | Fs6(Y) | Fs6(N) | Fs6(Y) |\n",
      "+-------+--------+--------+--------+--------+--------+-----+--------+--------+--------+--------+--------+--------+\n",
      "| p2(N) | 0.0    | 0.0    | 0.0    | 0.0    | 0.0    | ... | 0.0    | 0.0    | 0.0    | 0.0    | 0.0    | 0.69   |\n",
      "+-------+--------+--------+--------+--------+--------+-----+--------+--------+--------+--------+--------+--------+\n",
      "| p2(Y) | 1.0    | 1.0    | 1.0    | 1.0    | 1.0    | ... | 1.0    | 1.0    | 1.0    | 1.0    | 1.0    | 0.31   |\n",
      "+-------+--------+--------+--------+--------+--------+-----+--------+--------+--------+--------+--------+--------+ \n",
      "\n",
      "CPT of p3 ==>\n",
      "+-------+--------+--------+--------+--------+\n",
      "| Fs7   | Fs7(N) | Fs7(N) | Fs7(Y) | Fs7(Y) |\n",
      "+-------+--------+--------+--------+--------+\n",
      "| Fs8   | Fs8(N) | Fs8(Y) | Fs8(N) | Fs8(Y) |\n",
      "+-------+--------+--------+--------+--------+\n",
      "| p3(N) | 0.0    | 0.0    | 0.0    | 0.81   |\n",
      "+-------+--------+--------+--------+--------+\n",
      "| p3(Y) | 1.0    | 1.0    | 1.0    | 0.19   |\n",
      "+-------+--------+--------+--------+--------+ \n",
      "\n",
      "CPT of ris ==>\n",
      "+--------+-------+-------+-------+-------+-------+-------+-------+-------+\n",
      "| p1     | p1(N) | p1(N) | p1(N) | p1(N) | p1(Y) | p1(Y) | p1(Y) | p1(Y) |\n",
      "+--------+-------+-------+-------+-------+-------+-------+-------+-------+\n",
      "| p2     | p2(N) | p2(N) | p2(Y) | p2(Y) | p2(N) | p2(N) | p2(Y) | p2(Y) |\n",
      "+--------+-------+-------+-------+-------+-------+-------+-------+-------+\n",
      "| p3     | p3(N) | p3(Y) | p3(N) | p3(Y) | p3(N) | p3(Y) | p3(N) | p3(Y) |\n",
      "+--------+-------+-------+-------+-------+-------+-------+-------+-------+\n",
      "| ris(N) | 0.0   | 0.0   | 0.0   | 0.0   | 0.0   | 0.0   | 0.0   | 0.26  |\n",
      "+--------+-------+-------+-------+-------+-------+-------+-------+-------+\n",
      "| ris(Y) | 1.0   | 1.0   | 1.0   | 1.0   | 1.0   | 1.0   | 1.0   | 0.74  |\n",
      "+--------+-------+-------+-------+-------+-------+-------+-------+-------+ \n",
      "\n"
     ]
    }
   ],
   "source": [
    "'''\n",
    "In this section we are constructing the Bayesian netwok by defining its nodes, its connections, \n",
    "prior probabilities of the root nodes and CPTs of other nodes\n",
    "'''\n",
    "\n",
    "#Fs1  = 'The risk of animals is not healthy'\n",
    "#Fs2  = 'Animal risk is stress and pain'\n",
    "#Fs3  = 'The risk of the knifeused to slaughter is not hugienic'\n",
    "#Fs4  = 'The risk of cow body parts is not safe because they contain becteria'\n",
    "#Fs5  = 'The risk of a knife used to cut unhygienic (rusty) parts of an animal'\n",
    "#Fs6  = 'The location of cutting animal parts is not hygienic'\n",
    "#Fs7  = 'Transportation equipment for meat ditribution is not hygienic'\n",
    "#Fs8  = 'Meat distribution equipment is not equipped with refrigerators'\n",
    "#p1 = 'pre-slaughter'\n",
    "#p2 = 'slaughter'\n",
    "#p3 = 'post-slaughter'\n",
    "\n",
    "Fs1  = 'Fs1'\n",
    "Fs2  = 'Fs2'\n",
    "Fs3  = 'Fs3'\n",
    "Fs4  = 'Fs4'\n",
    "Fs5  = 'Fs5'\n",
    "Fs6  = 'Fs6'\n",
    "Fs7  = 'Fs7'\n",
    "Fs8  = 'Fs8'\n",
    "p1 = 'p1'\n",
    "p2 = 'p2'\n",
    "p3 = 'p3'\n",
    "ris = 'ris'\n",
    "\n",
    "model = BayesianNetwork([(Fs2,p1),(Fs1,p1),(Fs3,p2),(Fs4,p2),(Fs5,p2),(Fs6,p2),(Fs7,p3),(Fs8,p3),(p1,ris),(p2,ris),(p3,ris)])\n",
    "\n",
    "#Prior probabilites(root nodes)\n",
    "cpd_Fs2 = TabularCPD(variable=Fs2, variable_card=2, values=[[0.96], [0.04]], state_names={Fs2: ['N','Y']})\n",
    "cpd_Fs1 = TabularCPD(variable=Fs1, variable_card=2, values=[[0.96], [0.04]], state_names={Fs1: ['N','Y']})\n",
    "cpd_Fs3 = TabularCPD(variable=Fs3, variable_card=2, values=[[0.94], [0.06]], state_names={Fs3: ['N','Y']})\n",
    "cpd_Fs4 = TabularCPD(variable=Fs4, variable_card=2, values=[[0.94], [0.06]], state_names={Fs4: ['N','Y']})\n",
    "cpd_Fs5 = TabularCPD(variable=Fs5, variable_card=2, values=[[0.96], [0.04]], state_names={Fs5: ['N','Y']})\n",
    "cpd_Fs6 = TabularCPD(variable=Fs6, variable_card=2, values=[[0.96], [0.04]], state_names={Fs6: ['N','Y']})\n",
    "cpd_Fs7 = TabularCPD(variable=Fs7, variable_card=2, values=[[0.96], [0.04]], state_names={Fs7: ['N','Y']})\n",
    "cpd_Fs8 = TabularCPD(variable=Fs8, variable_card=2, values=[[0.92], [0.08]], state_names={Fs8: ['N','Y']})\n",
    "\n",
    "\n",
    "#Conditional Probabities (cpt)\n",
    "cpd_p1 = TabularCPD(variable=p1, variable_card=2,\n",
    "                    values=[[0.00, 0.00, 0.00, 0.84],\n",
    "                            [1.00, 1.00, 1.00, 0.16]],\n",
    "                    evidence=[Fs1, Fs2],\n",
    "                    evidence_card=[2, 2],\n",
    "                    state_names={p1: ['N','Y'], Fs1: ['N','Y'], Fs2: ['N','Y']})\n",
    "'''\n",
    "\n",
    "                            values=[[0.90, 0.70, 0.60, 0.84],\n",
    "                            [0.10, 0.30, 0.40, 0.16]],\n",
    "'''\n",
    "cpd_p2 = TabularCPD(variable=p2, variable_card=2,\n",
    "                    values=[[0.00, 0.00, 0.00, 0.00, 0.00, 0.00, 0.00, 0.00, 0.00, 0.00, 0.00, 0.00, 0.00, 0.00, 0.00, 0.69],\n",
    "                           [1.00, 1.00, 1.00, 1.00, 1.00, 1.00, 1.00, 1.00, 1.00, 1.00, 1.00, 1.00, 1.00, 1.00, 1.00, 0.31]],\n",
    "                    evidence=[Fs3, Fs4, Fs5, Fs6],\n",
    "                    evidence_card=[2, 2, 2, 2],\n",
    "                    state_names={p2: ['N','Y'], Fs3: ['N','Y'], Fs4: ['N','Y'], Fs5: ['N','Y'], Fs6: ['N','Y']})\n",
    "\n",
    "\n",
    "cpd_p3 = TabularCPD(variable=p3, variable_card=2,\n",
    "                    values=[[0.00, 0.00, 0.00, 0.81],\n",
    "                            [1.00, 1.00, 1.00, 0.19]],\n",
    "                    evidence=[Fs7, Fs8],\n",
    "                    evidence_card=[2, 2],\n",
    "                    state_names={p3: ['N','Y'], Fs7: ['N','Y'], Fs8: ['N','Y']})\n",
    "\n",
    "cpd_ris = TabularCPD(variable=ris, variable_card=2,\n",
    "                    values=[[0.00, 0.00, 0.00, 0.00, 0.00, 0.00, 0.00, 0.26],\n",
    "                            [1.00, 1.00, 1.00, 1.00, 1.00, 1.00, 1.00, 0.74]],\n",
    "                    evidence=[p1, p2, p3],\n",
    "                    evidence_card=[2, 2, 2],\n",
    "                    state_names={ris: ['N','Y'], p1: ['N','Y'], p2: ['N','Y'], p3: ['N','Y']})\n",
    "'''\n",
    "[[0.4, 0.32, 0.32, 0.32, 0.32, 0.3, 0.29, 0.26],\n",
    "                            [0.6, 0.68, 0.68, 0.68, 0.68, 0.7, 0.71, 0.74]],\n",
    "'''\n",
    "model.add_cpds(cpd_Fs1,cpd_Fs2, cpd_Fs3, cpd_Fs4, cpd_Fs5, cpd_Fs6, cpd_Fs7, cpd_Fs8, cpd_p1, cpd_p2, cpd_p3, cpd_ris)\n",
    "model.check_model()\n",
    "\n",
    "for cpds in model.get_cpds():\n",
    "    print(f'CPT of {cpds.variable} ==>')\n",
    "    print(cpds, '\\n')\n"
   ]
  },
  {
   "cell_type": "markdown",
   "id": "a34367af",
   "metadata": {},
   "source": [
    "In this section some samples of Flow of probabilistic influence have been shown."
   ]
  },
  {
   "cell_type": "code",
   "execution_count": 1,
   "id": "5dee0818",
   "metadata": {
    "scrolled": true
   },
   "outputs": [
    {
     "data": {
      "image/png": "[encoded data removed]",
      "text/plain": [
       "<Figure size 113.386x56.6929 with 1 Axes>"
      ]
     },
     "metadata": {},
     "output_type": "display_data"
    },
    {
     "name": "stdout",
     "output_type": "stream",
     "text": [
      "p1 ===> pre-slaughter\n"
     ]
    }
   ],
   "source": [
    "# direct cause\n",
    "'''\n",
    "We can see from the network pre-slaughtering process directly affect on the risk in food safety\n",
    "'''\n",
    "import daft\n",
    "import matplotlib.pyplot as plt\n",
    "from daft import PGM\n",
    "p1 = 'p1'\n",
    "ris = 'ris'\n",
    "pgm = PGM(shape=[2, 1])\n",
    "pgm.add_node(daft.Node(p1, \"p1\", 1, 1))\n",
    "pgm.add_node(daft.Node(ris, \"risk\", 2, 1))\n",
    "pgm.add_edge(p1,ris)\n",
    "pgm.render()\n",
    "plt.show()\n",
    "print('p1 ===> pre-slaughter')\n"
   ]
  },
  {
   "cell_type": "code",
   "execution_count": 4,
   "id": "c3fbbeb7",
   "metadata": {},
   "outputs": [
    {
     "data": {
      "image/png": "[encoded data removed]",
      "text/plain": [
       "<Figure size 113.386x56.6929 with 1 Axes>"
      ]
     },
     "metadata": {},
     "output_type": "display_data"
    }
   ],
   "source": [
    "# direct effect\n",
    "'''\n",
    "We can see that food safety can be an effect of pre-slaughtering process\n",
    "'''\n",
    "pgm = PGM(shape=[2, 1])\n",
    "pgm.add_node(daft.Node(ris, \"risk\", 1, 1))\n",
    "pgm.add_node(daft.Node(p1, \"p1\", 2, 1))\n",
    "pgm.add_edge(ris, p1)\n",
    "pgm.render()\n",
    "plt.show()\n"
   ]
  },
  {
   "cell_type": "code",
   "execution_count": 5,
   "id": "f4e4029e",
   "metadata": {},
   "outputs": [
    {
     "data": {
      "image/png": "[encoded data removed]",
      "text/plain": [
       "<Figure size 170.079x56.6929 with 1 Axes>"
      ]
     },
     "metadata": {},
     "output_type": "display_data"
    }
   ],
   "source": [
    "# CAUSAL TRAIL\n",
    "'''\n",
    "any changes in the The risk of animals is not healthy (Fs1), will have effect on pre-slaughtering process (p1) \n",
    "and it will change the values in the Risk of food safety (ris). It means Fs1 indirectly affect on the risk.\n",
    "Now p1 is observed i.e., we know its value, any change in Fs1 won’t affect ris. \n",
    "'''\n",
    "\n",
    "pgm = PGM(shape=[3, 1])\n",
    "pgm.add_node(daft.Node(Fs1, \"Fs1\", 1, 1))\n",
    "pgm.add_node(daft.Node(p1, \"p1\", 2, 1))\n",
    "pgm.add_node(daft.Node(ris, \"ris\", 3, 1))\n",
    "pgm.add_edge(Fs1,p1)\n",
    "pgm.add_edge(p1,ris)\n",
    "pgm.render()\n",
    "\n",
    "plt.show()\n"
   ]
  },
  {
   "cell_type": "code",
   "execution_count": null,
   "id": "e497a2cb",
   "metadata": {},
   "outputs": [],
   "source": [
    "# common cause\n",
    "'''For this network there is not common cause. Because there is not any node which have 2 children'''"
   ]
  },
  {
   "cell_type": "code",
   "execution_count": 6,
   "id": "38ad7571",
   "metadata": {},
   "outputs": [
    {
     "data": {
      "image/png": "[encoded data removed]",
      "text/plain": [
       "<Figure size 170.079x113.386 with 1 Axes>"
      ]
     },
     "metadata": {},
     "output_type": "display_data"
    }
   ],
   "source": [
    "# common effect\n",
    "'''\n",
    "When pre-slaughtering process (p1) is not observed, any change in (Fs1) reflects some changes in p1 but not in Fs2. \n",
    "But when p1 is observed, if Fs1 is also observed, this will change the probability of occurring Fs2. \n",
    "'''\n",
    "pgm = PGM(shape=[3, 2])\n",
    "pgm.add_node(daft.Node(Fs1, \"Fs1\", 1, 2))\n",
    "pgm.add_node(daft.Node(p1, \"p1\", 2, 1))\n",
    "pgm.add_node(daft.Node(Fs2, \"Fs2\", 3, 2))\n",
    "\n",
    "pgm.add_edge(Fs1,p1)\n",
    "pgm.add_edge(Fs2,p1)\n",
    "pgm.render()\n",
    "plt.show()"
   ]
  },
  {
   "cell_type": "code",
   "execution_count": 9,
   "id": "c8844ef5",
   "metadata": {},
   "outputs": [
    {
     "name": "stdout",
     "output_type": "stream",
     "text": [
      "Local independencies ---------------->\n",
      "\n",
      "Local Independencies of Fs1  ==> (Fs1 ⟂ p3, Fs8, Fs5, Fs4, p2, Fs7, Fs6, Fs2, Fs3)\n",
      "Local Independencies of p1   ==> (p1 ⟂ p3, Fs8, Fs5, p2, Fs4, Fs7, Fs6, Fs3 | Fs2, Fs1)\n",
      "Local Independencies of risk ==> (ris ⟂ Fs8, Fs5, Fs7, Fs4, Fs6, Fs2, Fs1, Fs3 | p1, p3, p2)\n",
      "\n",
      "Markov blanket       ---------------->\n",
      "\n",
      "Markov blanket of Fs1      ==> ['Fs2', 'p1']\n",
      "Markov blanket of p1       ==> ['p3', 'ris', 'p2', 'Fs2', 'Fs1']\n",
      "Markov blanket of risk     ==> ['p1', 'p3', 'p2']\n",
      "\n",
      "Active trails       ---------------->\n",
      "\n",
      "Active Trails of node Fs1    ==> {'Fs1': {'p1', 'Fs1', 'ris'}}\n",
      "Active Trails of node p1    ==> {'p1': {'Fs2', 'p1', 'Fs1', 'ris'}}\n",
      "Active Trails of node risk    ==> {'ris': {'p3', 'Fs8', 'Fs5', 'ris', 'p1', 'Fs4', 'p2', 'Fs7', 'Fs6', 'Fs2', 'Fs1', 'Fs3'}}\n",
      "\n",
      "D-separation       ---------------->\n",
      "\n",
      "Are Fs1 and p1 d-separated?  ==> False\n",
      "Are Fs8 and p1 d-separated?  ==> True\n"
     ]
    }
   ],
   "source": [
    "#A variable is conditionally independent of non-descendant variables given its parents.\n",
    "print('Local independencies ---------------->')\n",
    "print('')\n",
    "print('Local Independencies of Fs1  ==>' , model.local_independencies([Fs1]))\n",
    "print('Local Independencies of p1   ==>' , model.local_independencies([p1]))\n",
    "print('Local Independencies of risk ==>' , model.local_independencies([ris]))\n",
    "print('')\n",
    "#A variable is conditionally independent of all other variables given its Markov blanket which is its parents,children, and children’s parents.\n",
    "print('Markov blanket       ---------------->')\n",
    "print('')\n",
    "print('Markov blanket of Fs1      ==>' , model.get_markov_blanket(Fs1))\n",
    "print('Markov blanket of p1       ==>' , model.get_markov_blanket(p1))\n",
    "print('Markov blanket of risk     ==>' , model.get_markov_blanket(ris))\n",
    "print('')\n",
    "#When influence can flow from X to Y via Z then trail X—Z—Y is active. \n",
    "print('Active trails       ---------------->')\n",
    "print('')\n",
    "print('Active Trails of node Fs1    ==>' , model.active_trail_nodes([Fs1]))\n",
    "print('Active Trails of node p1    ==>' , model.active_trail_nodes([p1]))\n",
    "print('Active Trails of node risk    ==>' , model.active_trail_nodes([ris]))\n",
    "print('')\n",
    "#Two nodes are d-separated if there is no active trail between them.\n",
    "print('D-separation       ---------------->')\n",
    "print('')\n",
    "print('Are Fs1 and p1 d-separated?  ==>' , not(model.is_dconnected(Fs1, p1)))\n",
    "print('Are Fs8 and p1 d-separated?  ==>' , not(model.is_dconnected(Fs8, p1)))\n"
   ]
  },
  {
   "cell_type": "code",
   "execution_count": 10,
   "id": "dd466747",
   "metadata": {},
   "outputs": [
    {
     "name": "stderr",
     "output_type": "stream",
     "text": [
      "Finding Elimination Order: : 100%|███████████████████████████████████████████████████| 11/11 [00:00<00:00, 4883.29it/s]\n",
      "Eliminating: Fs3: 100%|███████████████████████████████████████████████████████████████| 11/11 [00:00<00:00, 450.01it/s]\n"
     ]
    },
    {
     "name": "stdout",
     "output_type": "stream",
     "text": [
      "+--------+------------+\n",
      "| ris    |   phi(ris) |\n",
      "+========+============+\n",
      "| ris(N) |     0.2590 |\n",
      "+--------+------------+\n",
      "| ris(Y) |     0.7410 |\n",
      "+--------+------------+\n"
     ]
    },
    {
     "name": "stderr",
     "output_type": "stream",
     "text": [
      "Finding Elimination Order: : 100%|█████████████████████████████████████████████████████| 8/8 [00:00<00:00, 8017.79it/s]\n",
      "Eliminating: Fs3: 100%|█████████████████████████████████████████████████████████████████| 8/8 [00:00<00:00, 333.39it/s]\n"
     ]
    },
    {
     "name": "stdout",
     "output_type": "stream",
     "text": [
      "+--------+------------+\n",
      "| ris    |   phi(ris) |\n",
      "+========+============+\n",
      "| ris(N) |     0.2593 |\n",
      "+--------+------------+\n",
      "| ris(Y) |     0.7407 |\n",
      "+--------+------------+\n"
     ]
    },
    {
     "name": "stderr",
     "output_type": "stream",
     "text": [
      "Finding Elimination Order: : : 0it [00:00, ?it/s]\n",
      "0it [00:00, ?it/s]\n"
     ]
    },
    {
     "name": "stdout",
     "output_type": "stream",
     "text": [
      "+--------+------------+\n",
      "| ris    |   phi(ris) |\n",
      "+========+============+\n",
      "| ris(N) |     0.2600 |\n",
      "+--------+------------+\n",
      "| ris(Y) |     0.7400 |\n",
      "+--------+------------+\n",
      "--- time of execution: 0.0281 seconds ---\n",
      "\n"
     ]
    },
    {
     "name": "stderr",
     "output_type": "stream",
     "text": [
      "Finding Elimination Order: : : 0it [00:00, ?it/s]\n",
      "0it [00:00, ?it/s]\n"
     ]
    },
    {
     "name": "stdout",
     "output_type": "stream",
     "text": [
      "+--------+------------+\n",
      "| ris    |   phi(ris) |\n",
      "+========+============+\n",
      "| ris(N) |     0.2600 |\n",
      "+--------+------------+\n",
      "| ris(Y) |     0.7400 |\n",
      "+--------+------------+\n",
      "--- time of execution: 0.0347 seconds ---\n",
      "\n"
     ]
    },
    {
     "name": "stderr",
     "output_type": "stream",
     "text": [
      "Finding Elimination Order: : : 0it [00:00, ?it/s]\n",
      "0it [00:00, ?it/s]\n"
     ]
    },
    {
     "name": "stdout",
     "output_type": "stream",
     "text": [
      "+--------+------------+\n",
      "| ris    |   phi(ris) |\n",
      "+========+============+\n",
      "| ris(N) |     0.2600 |\n",
      "+--------+------------+\n",
      "| ris(Y) |     0.7400 |\n",
      "+--------+------------+\n",
      "--- time of execution: 0.0346 seconds ---\n",
      "\n"
     ]
    },
    {
     "name": "stderr",
     "output_type": "stream",
     "text": [
      "Finding Elimination Order: : : 0it [00:00, ?it/s]\n",
      "0it [00:00, ?it/s]\n"
     ]
    },
    {
     "name": "stdout",
     "output_type": "stream",
     "text": [
      "+--------+------------+\n",
      "| ris    |   phi(ris) |\n",
      "+========+============+\n",
      "| ris(N) |     0.2600 |\n",
      "+--------+------------+\n",
      "| ris(Y) |     0.7400 |\n",
      "+--------+------------+\n",
      "--- time of execution: 0.0295 seconds ---\n",
      "\n"
     ]
    },
    {
     "name": "stderr",
     "output_type": "stream",
     "text": [
      "Finding Elimination Order: : : 0it [00:00, ?it/s]\n",
      "0it [00:00, ?it/s]\n"
     ]
    },
    {
     "name": "stdout",
     "output_type": "stream",
     "text": [
      "+--------+------------+\n",
      "| ris    |   phi(ris) |\n",
      "+========+============+\n",
      "| ris(N) |     0.2600 |\n",
      "+--------+------------+\n",
      "| ris(Y) |     0.7400 |\n",
      "+--------+------------+\n",
      "--- time of execution: 0.0279 seconds ---\n",
      "\n"
     ]
    }
   ],
   "source": [
    "from pgmpy.inference import VariableElimination\n",
    "import time\n",
    "infer = VariableElimination(model)\n",
    "\n",
    "print(infer.query([ris]))\n",
    "print(infer.query([ris],evidence={p1: 'Y'}))\n",
    "\n",
    "start_time = time.time()\n",
    "print(infer.query([ris],evidence={p1: 'Y', p2: 'Y', p3: 'Y'}))\n",
    "print(f'--- time of execution: {time.time() - start_time:0,.4f} seconds ---\\n')\n",
    "\n",
    "\n",
    "start_time = time.time()\n",
    "print(infer.query([ris],evidence={p1: 'Y', p2: 'Y', p3: 'Y'},elimination_order=\"MinNeighbors\"))\n",
    "print(f'--- time of execution: {time.time() - start_time:0,.4f} seconds ---\\n')\n",
    "\n",
    "start_time = time.time()\n",
    "print(infer.query([ris],evidence={p1: 'Y', p2: 'Y', p3: 'Y'},elimination_order=\"MinFill\"))\n",
    "print(f'--- time of execution: {time.time() - start_time:0,.4f} seconds ---\\n')\n",
    "\n",
    "start_time = time.time()\n",
    "print(infer.query([ris],evidence={p1: 'Y', p2: 'Y', p3: 'Y'},elimination_order=\"MinWeight\"))\n",
    "print(f'--- time of execution: {time.time() - start_time:0,.4f} seconds ---\\n')\n",
    "\n",
    "start_time = time.time()\n",
    "print(infer.query([ris],evidence={p1: 'Y', p2: 'Y', p3: 'Y'},elimination_order=\"WeightedMinFill\"))\n",
    "print(f'--- time of execution: {time.time() - start_time:0,.4f} seconds ---\\n')\n"
   ]
  },
  {
   "cell_type": "code",
   "execution_count": 11,
   "id": "a59393c9",
   "metadata": {},
   "outputs": [
    {
     "name": "stderr",
     "output_type": "stream",
     "text": [
      "Generating for node: ris: 100%|███████████████████████████████████████████████████████| 12/12 [00:00<00:00, 231.40it/s]\n"
     ]
    },
    {
     "name": "stdout",
     "output_type": "stream",
     "text": [
      "+--------+------------+\n",
      "| ris    |   phi(ris) |\n",
      "+========+============+\n",
      "| ris(N) |     0.2000 |\n",
      "+--------+------------+\n",
      "| ris(Y) |     0.8000 |\n",
      "+--------+------------+\n"
     ]
    },
    {
     "name": "stderr",
     "output_type": "stream",
     "text": [
      "Generating for node: ris: 100%|███████████████████████████████████████████████████████| 12/12 [00:00<00:00, 207.03it/s]"
     ]
    },
    {
     "name": "stdout",
     "output_type": "stream",
     "text": [
      "+--------+------------+\n",
      "| ris    |   phi(ris) |\n",
      "+========+============+\n",
      "| ris(N) |     0.2330 |\n",
      "+--------+------------+\n",
      "| ris(Y) |     0.7670 |\n",
      "+--------+------------+\n"
     ]
    },
    {
     "name": "stderr",
     "output_type": "stream",
     "text": [
      "\n"
     ]
    }
   ],
   "source": [
    "# Sampling from an empty network\n",
    "from pgmpy.inference import ApproxInference\n",
    "from pgmpy.sampling import BayesianModelSampling, GibbsSampling\n",
    "infer_approximate = ApproxInference(model)\n",
    "print(infer_approximate.query(variables=[ris], n_samples=20)) \n",
    "print(infer_approximate.query(variables=[ris], n_samples=1000)) "
   ]
  },
  {
   "cell_type": "code",
   "execution_count": 12,
   "id": "2b088e35",
   "metadata": {},
   "outputs": [
    {
     "data": {
      "text/html": [
       "<div>\n",
       "<style scoped>\n",
       "    .dataframe tbody tr th:only-of-type {\n",
       "        vertical-align: middle;\n",
       "    }\n",
       "\n",
       "    .dataframe tbody tr th {\n",
       "        vertical-align: top;\n",
       "    }\n",
       "\n",
       "    .dataframe thead th {\n",
       "        text-align: right;\n",
       "    }\n",
       "</style>\n",
       "<table border=\"1\" class=\"dataframe\">\n",
       "  <thead>\n",
       "    <tr style=\"text-align: right;\">\n",
       "      <th></th>\n",
       "      <th>Fs2</th>\n",
       "      <th>p1</th>\n",
       "      <th>Fs1</th>\n",
       "      <th>Fs3</th>\n",
       "      <th>p2</th>\n",
       "      <th>Fs4</th>\n",
       "      <th>Fs5</th>\n",
       "      <th>Fs6</th>\n",
       "      <th>Fs7</th>\n",
       "      <th>p3</th>\n",
       "      <th>Fs8</th>\n",
       "      <th>ris</th>\n",
       "    </tr>\n",
       "  </thead>\n",
       "  <tbody>\n",
       "    <tr>\n",
       "      <th>0</th>\n",
       "      <td>N</td>\n",
       "      <td>Y</td>\n",
       "      <td>N</td>\n",
       "      <td>N</td>\n",
       "      <td>Y</td>\n",
       "      <td>N</td>\n",
       "      <td>N</td>\n",
       "      <td>N</td>\n",
       "      <td>N</td>\n",
       "      <td>Y</td>\n",
       "      <td>N</td>\n",
       "      <td>N</td>\n",
       "    </tr>\n",
       "    <tr>\n",
       "      <th>1</th>\n",
       "      <td>N</td>\n",
       "      <td>Y</td>\n",
       "      <td>N</td>\n",
       "      <td>N</td>\n",
       "      <td>Y</td>\n",
       "      <td>N</td>\n",
       "      <td>N</td>\n",
       "      <td>N</td>\n",
       "      <td>N</td>\n",
       "      <td>Y</td>\n",
       "      <td>N</td>\n",
       "      <td>Y</td>\n",
       "    </tr>\n",
       "    <tr>\n",
       "      <th>2</th>\n",
       "      <td>N</td>\n",
       "      <td>Y</td>\n",
       "      <td>N</td>\n",
       "      <td>N</td>\n",
       "      <td>Y</td>\n",
       "      <td>N</td>\n",
       "      <td>N</td>\n",
       "      <td>N</td>\n",
       "      <td>N</td>\n",
       "      <td>Y</td>\n",
       "      <td>N</td>\n",
       "      <td>N</td>\n",
       "    </tr>\n",
       "    <tr>\n",
       "      <th>3</th>\n",
       "      <td>N</td>\n",
       "      <td>Y</td>\n",
       "      <td>N</td>\n",
       "      <td>N</td>\n",
       "      <td>Y</td>\n",
       "      <td>Y</td>\n",
       "      <td>N</td>\n",
       "      <td>Y</td>\n",
       "      <td>N</td>\n",
       "      <td>Y</td>\n",
       "      <td>N</td>\n",
       "      <td>N</td>\n",
       "    </tr>\n",
       "    <tr>\n",
       "      <th>4</th>\n",
       "      <td>N</td>\n",
       "      <td>Y</td>\n",
       "      <td>N</td>\n",
       "      <td>N</td>\n",
       "      <td>Y</td>\n",
       "      <td>Y</td>\n",
       "      <td>N</td>\n",
       "      <td>N</td>\n",
       "      <td>N</td>\n",
       "      <td>Y</td>\n",
       "      <td>N</td>\n",
       "      <td>Y</td>\n",
       "    </tr>\n",
       "    <tr>\n",
       "      <th>...</th>\n",
       "      <td>...</td>\n",
       "      <td>...</td>\n",
       "      <td>...</td>\n",
       "      <td>...</td>\n",
       "      <td>...</td>\n",
       "      <td>...</td>\n",
       "      <td>...</td>\n",
       "      <td>...</td>\n",
       "      <td>...</td>\n",
       "      <td>...</td>\n",
       "      <td>...</td>\n",
       "      <td>...</td>\n",
       "    </tr>\n",
       "    <tr>\n",
       "      <th>995</th>\n",
       "      <td>Y</td>\n",
       "      <td>Y</td>\n",
       "      <td>N</td>\n",
       "      <td>N</td>\n",
       "      <td>Y</td>\n",
       "      <td>N</td>\n",
       "      <td>N</td>\n",
       "      <td>N</td>\n",
       "      <td>N</td>\n",
       "      <td>Y</td>\n",
       "      <td>N</td>\n",
       "      <td>Y</td>\n",
       "    </tr>\n",
       "    <tr>\n",
       "      <th>996</th>\n",
       "      <td>N</td>\n",
       "      <td>Y</td>\n",
       "      <td>N</td>\n",
       "      <td>N</td>\n",
       "      <td>Y</td>\n",
       "      <td>N</td>\n",
       "      <td>N</td>\n",
       "      <td>N</td>\n",
       "      <td>N</td>\n",
       "      <td>Y</td>\n",
       "      <td>N</td>\n",
       "      <td>N</td>\n",
       "    </tr>\n",
       "    <tr>\n",
       "      <th>997</th>\n",
       "      <td>N</td>\n",
       "      <td>Y</td>\n",
       "      <td>N</td>\n",
       "      <td>N</td>\n",
       "      <td>Y</td>\n",
       "      <td>N</td>\n",
       "      <td>N</td>\n",
       "      <td>N</td>\n",
       "      <td>N</td>\n",
       "      <td>Y</td>\n",
       "      <td>N</td>\n",
       "      <td>Y</td>\n",
       "    </tr>\n",
       "    <tr>\n",
       "      <th>998</th>\n",
       "      <td>N</td>\n",
       "      <td>Y</td>\n",
       "      <td>N</td>\n",
       "      <td>N</td>\n",
       "      <td>Y</td>\n",
       "      <td>N</td>\n",
       "      <td>Y</td>\n",
       "      <td>N</td>\n",
       "      <td>N</td>\n",
       "      <td>Y</td>\n",
       "      <td>N</td>\n",
       "      <td>Y</td>\n",
       "    </tr>\n",
       "    <tr>\n",
       "      <th>999</th>\n",
       "      <td>N</td>\n",
       "      <td>Y</td>\n",
       "      <td>N</td>\n",
       "      <td>N</td>\n",
       "      <td>Y</td>\n",
       "      <td>N</td>\n",
       "      <td>N</td>\n",
       "      <td>N</td>\n",
       "      <td>N</td>\n",
       "      <td>Y</td>\n",
       "      <td>N</td>\n",
       "      <td>Y</td>\n",
       "    </tr>\n",
       "  </tbody>\n",
       "</table>\n",
       "<p>1000 rows × 12 columns</p>\n",
       "</div>"
      ],
      "text/plain": [
       "    Fs2 p1 Fs1 Fs3 p2 Fs4 Fs5 Fs6 Fs7 p3 Fs8 ris\n",
       "0     N  Y   N   N  Y   N   N   N   N  Y   N   N\n",
       "1     N  Y   N   N  Y   N   N   N   N  Y   N   Y\n",
       "2     N  Y   N   N  Y   N   N   N   N  Y   N   N\n",
       "3     N  Y   N   N  Y   Y   N   Y   N  Y   N   N\n",
       "4     N  Y   N   N  Y   Y   N   N   N  Y   N   Y\n",
       "..   .. ..  ..  .. ..  ..  ..  ..  .. ..  ..  ..\n",
       "995   Y  Y   N   N  Y   N   N   N   N  Y   N   Y\n",
       "996   N  Y   N   N  Y   N   N   N   N  Y   N   N\n",
       "997   N  Y   N   N  Y   N   N   N   N  Y   N   Y\n",
       "998   N  Y   N   N  Y   N   Y   N   N  Y   N   Y\n",
       "999   N  Y   N   N  Y   N   N   N   N  Y   N   Y\n",
       "\n",
       "[1000 rows x 12 columns]"
      ]
     },
     "execution_count": 12,
     "metadata": {},
     "output_type": "execute_result"
    }
   ],
   "source": [
    "infer_BayesianSampling = BayesianModelSampling(model)\n",
    "forward_sampling_df = infer_BayesianSampling.forward_sample(size=1000, seed=1, show_progress=False)\n",
    "forward_sampling_df"
   ]
  },
  {
   "cell_type": "code",
   "execution_count": 13,
   "id": "a87580a3",
   "metadata": {},
   "outputs": [
    {
     "name": "stdout",
     "output_type": "stream",
     "text": [
      "+--------+------------+\n",
      "| ris    |   phi(ris) |\n",
      "+========+============+\n",
      "| ris(N) |     0.2710 |\n",
      "+--------+------------+\n",
      "| ris(Y) |     0.7290 |\n",
      "+--------+------------+\n"
     ]
    }
   ],
   "source": [
    "print(infer_approximate.get_distribution(samples=forward_sampling_df, variables=[ris]))"
   ]
  },
  {
   "cell_type": "code",
   "execution_count": 14,
   "id": "31a57e73",
   "metadata": {},
   "outputs": [
    {
     "name": "stdout",
     "output_type": "stream",
     "text": [
      "+--------+------------+\n",
      "| ris    |   phi(ris) |\n",
      "+========+============+\n",
      "| ris(N) |     0.6429 |\n",
      "+--------+------------+\n",
      "| ris(Y) |     0.3571 |\n",
      "+--------+------------+\n",
      "+--------+------------+\n",
      "| ris    |   phi(ris) |\n",
      "+========+============+\n",
      "| ris(N) |     0.2510 |\n",
      "+--------+------------+\n",
      "| ris(Y) |     0.7490 |\n",
      "+--------+------------+\n"
     ]
    }
   ],
   "source": [
    "# Likelihood weighted Sampling:\n",
    "from pgmpy.factors.discrete import State\n",
    "evidence = [State('p1', 'Y')]\n",
    "print(infer_approximate.get_distribution(infer_BayesianSampling.likelihood_weighted_sample\n",
    "                                         ( size=14 , seed=1, evidence=evidence, show_progress=False), [ris], joint=True))\n",
    "print(infer_approximate.get_distribution(infer_BayesianSampling.likelihood_weighted_sample\n",
    "                                         ( size=5000, seed=1, evidence=evidence, show_progress=False), [ris], joint=True))"
   ]
  },
  {
   "cell_type": "code",
   "execution_count": 15,
   "id": "93f5f436",
   "metadata": {},
   "outputs": [
    {
     "name": "stdout",
     "output_type": "stream",
     "text": [
      "+--------+------------+\n",
      "| ris    |   phi(ris) |\n",
      "+========+============+\n",
      "| ris(N) |     0.2500 |\n",
      "+--------+------------+\n",
      "| ris(Y) |     0.7500 |\n",
      "+--------+------------+\n",
      "+--------+------------+\n",
      "| ris    |   phi(ris) |\n",
      "+========+============+\n",
      "| ris(N) |     0.2640 |\n",
      "+--------+------------+\n",
      "| ris(Y) |     0.7360 |\n",
      "+--------+------------+\n"
     ]
    }
   ],
   "source": [
    "# Rejection Sampling:\n",
    "print(infer_approximate.get_distribution(infer_BayesianSampling.rejection_sample\n",
    "                                         ( size=20 , seed=1, evidence=evidence, show_progress=False), [ris]))\n",
    "print(infer_approximate.get_distribution(infer_BayesianSampling.rejection_sample\n",
    "                                         ( size=1000 , seed=1, evidence=evidence, show_progress=False), [ris]))\n"
   ]
  }
 ],
 "metadata": {
  "kernelspec": {
   "display_name": "Python 3 (ipykernel)",
   "language": "python",
   "name": "python3"
  },
  "language_info": {
   "codemirror_mode": {
    "name": "ipython",
    "version": 3
   },
   "file_extension": ".py",
   "mimetype": "text/x-python",
   "name": "python",
   "nbconvert_exporter": "python",
   "pygments_lexer": "ipython3",
   "version": "3.9.12"
  }
 },
 "nbformat": 4,
 "nbformat_minor": 5
}
